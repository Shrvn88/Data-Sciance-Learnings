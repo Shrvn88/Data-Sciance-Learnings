{
 "cells": [
  {
   "cell_type": "markdown",
   "metadata": {},
   "source": [
    "Getting Started with Pandas"
   ]
  },
  {
   "cell_type": "code",
   "execution_count": 8,
   "metadata": {},
   "outputs": [
    {
     "data": {
      "text/plain": [
       "Index(['index', 'budget', 'genres', 'homepage', 'id', 'keywords',\n",
       "       'original_language', 'original_title', 'overview', 'popularity',\n",
       "       'production_companies', 'production_countries', 'release_date',\n",
       "       'revenue', 'runtime', 'spoken_languages', 'status', 'tagline', 'title',\n",
       "       'vote_average', 'vote_count', 'cast', 'crew', 'director'],\n",
       "      dtype='object')"
      ]
     },
     "execution_count": 8,
     "metadata": {},
     "output_type": "execute_result"
    }
   ],
   "source": [
    "import pandas as pd\n",
    "\n",
    "df = pd.read_csv(\"data//movies.csv\")\n",
    "\n",
    "df.columns\n"
   ]
  },
  {
   "cell_type": "code",
   "execution_count": 20,
   "metadata": {},
   "outputs": [
    {
     "data": {
      "text/html": [
       "<div>\n",
       "<style scoped>\n",
       "    .dataframe tbody tr th:only-of-type {\n",
       "        vertical-align: middle;\n",
       "    }\n",
       "\n",
       "    .dataframe tbody tr th {\n",
       "        vertical-align: top;\n",
       "    }\n",
       "\n",
       "    .dataframe thead th {\n",
       "        text-align: right;\n",
       "    }\n",
       "</style>\n",
       "<table border=\"1\" class=\"dataframe\">\n",
       "  <thead>\n",
       "    <tr style=\"text-align: right;\">\n",
       "      <th></th>\n",
       "      <th>index</th>\n",
       "      <th>budget</th>\n",
       "      <th>genres</th>\n",
       "      <th>homepage</th>\n",
       "      <th>id</th>\n",
       "      <th>keywords</th>\n",
       "      <th>original_language</th>\n",
       "      <th>original_title</th>\n",
       "      <th>overview</th>\n",
       "      <th>popularity</th>\n",
       "      <th>...</th>\n",
       "      <th>runtime</th>\n",
       "      <th>spoken_languages</th>\n",
       "      <th>status</th>\n",
       "      <th>tagline</th>\n",
       "      <th>title</th>\n",
       "      <th>vote_average</th>\n",
       "      <th>vote_count</th>\n",
       "      <th>cast</th>\n",
       "      <th>crew</th>\n",
       "      <th>director</th>\n",
       "    </tr>\n",
       "  </thead>\n",
       "  <tbody>\n",
       "    <tr>\n",
       "      <th>1464</th>\n",
       "      <td>1464</td>\n",
       "      <td>0</td>\n",
       "      <td>Drama Crime</td>\n",
       "      <td>NaN</td>\n",
       "      <td>310706</td>\n",
       "      <td>NaN</td>\n",
       "      <td>en</td>\n",
       "      <td>Black Water Transit</td>\n",
       "      <td>In this action thriller set in post-Katrina Ne...</td>\n",
       "      <td>0.126738</td>\n",
       "      <td>...</td>\n",
       "      <td>100.0</td>\n",
       "      <td>[{\"iso_639_1\": \"en\", \"name\": \"English\"}]</td>\n",
       "      <td>Released</td>\n",
       "      <td>NaN</td>\n",
       "      <td>Black Water Transit</td>\n",
       "      <td>0.0</td>\n",
       "      <td>0</td>\n",
       "      <td>Laurence Fishburne Karl Urban Brittany Snow Ai...</td>\n",
       "      <td>[{'name': 'Tony Kaye', 'gender': 2, 'departmen...</td>\n",
       "      <td>Tony Kaye</td>\n",
       "    </tr>\n",
       "    <tr>\n",
       "      <th>3669</th>\n",
       "      <td>3669</td>\n",
       "      <td>0</td>\n",
       "      <td>Comedy Drama</td>\n",
       "      <td>http://www.romeothemovie.com/</td>\n",
       "      <td>113406</td>\n",
       "      <td>NaN</td>\n",
       "      <td>en</td>\n",
       "      <td>Should've Been Romeo</td>\n",
       "      <td>A self-centered, middle-aged pitchman for a po...</td>\n",
       "      <td>0.407030</td>\n",
       "      <td>...</td>\n",
       "      <td>0.0</td>\n",
       "      <td>[{\"iso_639_1\": \"en\", \"name\": \"English\"}]</td>\n",
       "      <td>Released</td>\n",
       "      <td>Even Shakespeare didn't see this one coming.</td>\n",
       "      <td>Should've Been Romeo</td>\n",
       "      <td>0.0</td>\n",
       "      <td>0</td>\n",
       "      <td>Paul Ben-Victor Ed Asner Jordenn Thompson Caro...</td>\n",
       "      <td>[{'name': 'Mary Vernieu', 'gender': 1, 'depart...</td>\n",
       "      <td>Marcia Bennett</td>\n",
       "    </tr>\n",
       "    <tr>\n",
       "      <th>3670</th>\n",
       "      <td>3670</td>\n",
       "      <td>0</td>\n",
       "      <td>Family</td>\n",
       "      <td>NaN</td>\n",
       "      <td>447027</td>\n",
       "      <td>NaN</td>\n",
       "      <td>en</td>\n",
       "      <td>Running Forever</td>\n",
       "      <td>After being estranged since her mother's death...</td>\n",
       "      <td>0.028756</td>\n",
       "      <td>...</td>\n",
       "      <td>88.0</td>\n",
       "      <td>[]</td>\n",
       "      <td>Released</td>\n",
       "      <td>NaN</td>\n",
       "      <td>Running Forever</td>\n",
       "      <td>0.0</td>\n",
       "      <td>0</td>\n",
       "      <td>NaN</td>\n",
       "      <td>[]</td>\n",
       "      <td>NaN</td>\n",
       "    </tr>\n",
       "    <tr>\n",
       "      <th>3852</th>\n",
       "      <td>3852</td>\n",
       "      <td>0</td>\n",
       "      <td>Drama</td>\n",
       "      <td>NaN</td>\n",
       "      <td>395766</td>\n",
       "      <td>miniseries</td>\n",
       "      <td>en</td>\n",
       "      <td>The Secret</td>\n",
       "      <td>The Secret is the story of a real-life double ...</td>\n",
       "      <td>0.042346</td>\n",
       "      <td>...</td>\n",
       "      <td>200.0</td>\n",
       "      <td>[]</td>\n",
       "      <td>Released</td>\n",
       "      <td>NaN</td>\n",
       "      <td>The Secret</td>\n",
       "      <td>0.0</td>\n",
       "      <td>0</td>\n",
       "      <td>James Nesbitt Genevieve O'Reilly Jason Watkins...</td>\n",
       "      <td>[{'name': 'Stuart Urban', 'gender': 0, 'depart...</td>\n",
       "      <td>Nick Murphy</td>\n",
       "    </tr>\n",
       "    <tr>\n",
       "      <th>3855</th>\n",
       "      <td>3855</td>\n",
       "      <td>3500000</td>\n",
       "      <td>Documentary</td>\n",
       "      <td>http://www.timetochoose.com</td>\n",
       "      <td>370662</td>\n",
       "      <td>climate change documentary</td>\n",
       "      <td>en</td>\n",
       "      <td>Time to Choose</td>\n",
       "      <td>Academy Award® winning director Charles Fergus...</td>\n",
       "      <td>1.618138</td>\n",
       "      <td>...</td>\n",
       "      <td>100.0</td>\n",
       "      <td>[{\"iso_639_1\": \"en\", \"name\": \"English\"}]</td>\n",
       "      <td>Released</td>\n",
       "      <td>Climate change for good.</td>\n",
       "      <td>Time to Choose</td>\n",
       "      <td>0.0</td>\n",
       "      <td>0</td>\n",
       "      <td>Oscar Isaac Jane Goodall Jerry Brown Neal Barn...</td>\n",
       "      <td>[{'name': 'Charles Ferguson', 'gender': 2, 'de...</td>\n",
       "      <td>Charles Ferguson</td>\n",
       "    </tr>\n",
       "    <tr>\n",
       "      <th>...</th>\n",
       "      <td>...</td>\n",
       "      <td>...</td>\n",
       "      <td>...</td>\n",
       "      <td>...</td>\n",
       "      <td>...</td>\n",
       "      <td>...</td>\n",
       "      <td>...</td>\n",
       "      <td>...</td>\n",
       "      <td>...</td>\n",
       "      <td>...</td>\n",
       "      <td>...</td>\n",
       "      <td>...</td>\n",
       "      <td>...</td>\n",
       "      <td>...</td>\n",
       "      <td>...</td>\n",
       "      <td>...</td>\n",
       "      <td>...</td>\n",
       "      <td>...</td>\n",
       "      <td>...</td>\n",
       "      <td>...</td>\n",
       "      <td>...</td>\n",
       "    </tr>\n",
       "    <tr>\n",
       "      <th>4769</th>\n",
       "      <td>4769</td>\n",
       "      <td>0</td>\n",
       "      <td>Action Western</td>\n",
       "      <td>NaN</td>\n",
       "      <td>69382</td>\n",
       "      <td>NaN</td>\n",
       "      <td>en</td>\n",
       "      <td>The Legend of God's Gun</td>\n",
       "      <td>A gun-slinging preacher returns to the debauch...</td>\n",
       "      <td>0.003582</td>\n",
       "      <td>...</td>\n",
       "      <td>78.0</td>\n",
       "      <td>[]</td>\n",
       "      <td>Released</td>\n",
       "      <td>NaN</td>\n",
       "      <td>The Legend of God's Gun</td>\n",
       "      <td>0.0</td>\n",
       "      <td>0</td>\n",
       "      <td>Robert Bones Kirpatrick Thomas Dave Koenig Jul...</td>\n",
       "      <td>[{'name': 'Mike Bruce', 'gender': 0, 'departme...</td>\n",
       "      <td>Mike Bruce</td>\n",
       "    </tr>\n",
       "    <tr>\n",
       "      <th>4771</th>\n",
       "      <td>4771</td>\n",
       "      <td>0</td>\n",
       "      <td>Horror</td>\n",
       "      <td>NaN</td>\n",
       "      <td>220490</td>\n",
       "      <td>NaN</td>\n",
       "      <td>en</td>\n",
       "      <td>Her Cry: La Llorona Investigation</td>\n",
       "      <td>Crew of \"Paranormal Legends\" went to film thei...</td>\n",
       "      <td>0.056459</td>\n",
       "      <td>...</td>\n",
       "      <td>89.0</td>\n",
       "      <td>[]</td>\n",
       "      <td>Released</td>\n",
       "      <td>NaN</td>\n",
       "      <td>Her Cry: La Llorona Investigation</td>\n",
       "      <td>0.0</td>\n",
       "      <td>0</td>\n",
       "      <td>Nichole Ceballos James Ezrin Everardo Guzman P...</td>\n",
       "      <td>[{'name': 'Damir Catic', 'gender': 0, 'departm...</td>\n",
       "      <td>Damir Catic</td>\n",
       "    </tr>\n",
       "    <tr>\n",
       "      <th>4780</th>\n",
       "      <td>4780</td>\n",
       "      <td>0</td>\n",
       "      <td>Thriller Crime Drama</td>\n",
       "      <td>NaN</td>\n",
       "      <td>366967</td>\n",
       "      <td>NaN</td>\n",
       "      <td>en</td>\n",
       "      <td>Dutch Kills</td>\n",
       "      <td>A desperate ex-con is forced to gather his old...</td>\n",
       "      <td>0.038143</td>\n",
       "      <td>...</td>\n",
       "      <td>90.0</td>\n",
       "      <td>[]</td>\n",
       "      <td>Released</td>\n",
       "      <td>NaN</td>\n",
       "      <td>Dutch Kills</td>\n",
       "      <td>0.0</td>\n",
       "      <td>0</td>\n",
       "      <td>R.L. Mann Tama Filianga Mikaal Bates Celestine...</td>\n",
       "      <td>[{'name': 'Joseph Mazzella', 'gender': 0, 'dep...</td>\n",
       "      <td>Joseph Mazzella</td>\n",
       "    </tr>\n",
       "    <tr>\n",
       "      <th>4785</th>\n",
       "      <td>4785</td>\n",
       "      <td>0</td>\n",
       "      <td>Drama</td>\n",
       "      <td>NaN</td>\n",
       "      <td>287625</td>\n",
       "      <td>NaN</td>\n",
       "      <td>en</td>\n",
       "      <td>Stories of Our Lives</td>\n",
       "      <td>Created by the members of a Nairobi-based arts...</td>\n",
       "      <td>0.327794</td>\n",
       "      <td>...</td>\n",
       "      <td>60.0</td>\n",
       "      <td>[{\"iso_639_1\": \"sw\", \"name\": \"Kiswahili\"}, {\"i...</td>\n",
       "      <td>Released</td>\n",
       "      <td>NaN</td>\n",
       "      <td>Stories of Our Lives</td>\n",
       "      <td>0.0</td>\n",
       "      <td>0</td>\n",
       "      <td>Louis Brooke Allan Bryan Weku Judy Gichohi Kel...</td>\n",
       "      <td>[{'name': 'Jim Chuchu', 'gender': 0, 'departme...</td>\n",
       "      <td>Jim Chuchu</td>\n",
       "    </tr>\n",
       "    <tr>\n",
       "      <th>4794</th>\n",
       "      <td>4794</td>\n",
       "      <td>0</td>\n",
       "      <td>Thriller Horror Comedy</td>\n",
       "      <td>NaN</td>\n",
       "      <td>286939</td>\n",
       "      <td>NaN</td>\n",
       "      <td>en</td>\n",
       "      <td>Sanctuary: Quite a Conundrum</td>\n",
       "      <td>It should have been just a normal day of sex, ...</td>\n",
       "      <td>0.166513</td>\n",
       "      <td>...</td>\n",
       "      <td>82.0</td>\n",
       "      <td>[{\"iso_639_1\": \"en\", \"name\": \"English\"}]</td>\n",
       "      <td>Released</td>\n",
       "      <td>NaN</td>\n",
       "      <td>Sanctuary: Quite a Conundrum</td>\n",
       "      <td>0.0</td>\n",
       "      <td>0</td>\n",
       "      <td>Sasha Ramos Erin Cline Emily Rogers Anthony Ru...</td>\n",
       "      <td>[{'name': 'Thomas L. Phillips', 'gender': 0, '...</td>\n",
       "      <td>Thomas L. Phillips</td>\n",
       "    </tr>\n",
       "  </tbody>\n",
       "</table>\n",
       "<p>63 rows × 24 columns</p>\n",
       "</div>"
      ],
      "text/plain": [
       "      index   budget                  genres                       homepage  \\\n",
       "1464   1464        0             Drama Crime                            NaN   \n",
       "3669   3669        0            Comedy Drama  http://www.romeothemovie.com/   \n",
       "3670   3670        0                  Family                            NaN   \n",
       "3852   3852        0                   Drama                            NaN   \n",
       "3855   3855  3500000             Documentary    http://www.timetochoose.com   \n",
       "...     ...      ...                     ...                            ...   \n",
       "4769   4769        0          Action Western                            NaN   \n",
       "4771   4771        0                  Horror                            NaN   \n",
       "4780   4780        0    Thriller Crime Drama                            NaN   \n",
       "4785   4785        0                   Drama                            NaN   \n",
       "4794   4794        0  Thriller Horror Comedy                            NaN   \n",
       "\n",
       "          id                    keywords original_language  \\\n",
       "1464  310706                         NaN                en   \n",
       "3669  113406                         NaN                en   \n",
       "3670  447027                         NaN                en   \n",
       "3852  395766                  miniseries                en   \n",
       "3855  370662  climate change documentary                en   \n",
       "...      ...                         ...               ...   \n",
       "4769   69382                         NaN                en   \n",
       "4771  220490                         NaN                en   \n",
       "4780  366967                         NaN                en   \n",
       "4785  287625                         NaN                en   \n",
       "4794  286939                         NaN                en   \n",
       "\n",
       "                         original_title  \\\n",
       "1464                Black Water Transit   \n",
       "3669               Should've Been Romeo   \n",
       "3670                    Running Forever   \n",
       "3852                         The Secret   \n",
       "3855                     Time to Choose   \n",
       "...                                 ...   \n",
       "4769            The Legend of God's Gun   \n",
       "4771  Her Cry: La Llorona Investigation   \n",
       "4780                        Dutch Kills   \n",
       "4785               Stories of Our Lives   \n",
       "4794       Sanctuary: Quite a Conundrum   \n",
       "\n",
       "                                               overview  popularity  ...  \\\n",
       "1464  In this action thriller set in post-Katrina Ne...    0.126738  ...   \n",
       "3669  A self-centered, middle-aged pitchman for a po...    0.407030  ...   \n",
       "3670  After being estranged since her mother's death...    0.028756  ...   \n",
       "3852  The Secret is the story of a real-life double ...    0.042346  ...   \n",
       "3855  Academy Award® winning director Charles Fergus...    1.618138  ...   \n",
       "...                                                 ...         ...  ...   \n",
       "4769  A gun-slinging preacher returns to the debauch...    0.003582  ...   \n",
       "4771  Crew of \"Paranormal Legends\" went to film thei...    0.056459  ...   \n",
       "4780  A desperate ex-con is forced to gather his old...    0.038143  ...   \n",
       "4785  Created by the members of a Nairobi-based arts...    0.327794  ...   \n",
       "4794  It should have been just a normal day of sex, ...    0.166513  ...   \n",
       "\n",
       "     runtime                                   spoken_languages    status  \\\n",
       "1464   100.0           [{\"iso_639_1\": \"en\", \"name\": \"English\"}]  Released   \n",
       "3669     0.0           [{\"iso_639_1\": \"en\", \"name\": \"English\"}]  Released   \n",
       "3670    88.0                                                 []  Released   \n",
       "3852   200.0                                                 []  Released   \n",
       "3855   100.0           [{\"iso_639_1\": \"en\", \"name\": \"English\"}]  Released   \n",
       "...      ...                                                ...       ...   \n",
       "4769    78.0                                                 []  Released   \n",
       "4771    89.0                                                 []  Released   \n",
       "4780    90.0                                                 []  Released   \n",
       "4785    60.0  [{\"iso_639_1\": \"sw\", \"name\": \"Kiswahili\"}, {\"i...  Released   \n",
       "4794    82.0           [{\"iso_639_1\": \"en\", \"name\": \"English\"}]  Released   \n",
       "\n",
       "                                           tagline  \\\n",
       "1464                                           NaN   \n",
       "3669  Even Shakespeare didn't see this one coming.   \n",
       "3670                                           NaN   \n",
       "3852                                           NaN   \n",
       "3855                      Climate change for good.   \n",
       "...                                            ...   \n",
       "4769                                           NaN   \n",
       "4771                                           NaN   \n",
       "4780                                           NaN   \n",
       "4785                                           NaN   \n",
       "4794                                           NaN   \n",
       "\n",
       "                                  title vote_average vote_count  \\\n",
       "1464                Black Water Transit          0.0          0   \n",
       "3669               Should've Been Romeo          0.0          0   \n",
       "3670                    Running Forever          0.0          0   \n",
       "3852                         The Secret          0.0          0   \n",
       "3855                     Time to Choose          0.0          0   \n",
       "...                                 ...          ...        ...   \n",
       "4769            The Legend of God's Gun          0.0          0   \n",
       "4771  Her Cry: La Llorona Investigation          0.0          0   \n",
       "4780                        Dutch Kills          0.0          0   \n",
       "4785               Stories of Our Lives          0.0          0   \n",
       "4794       Sanctuary: Quite a Conundrum          0.0          0   \n",
       "\n",
       "                                                   cast  \\\n",
       "1464  Laurence Fishburne Karl Urban Brittany Snow Ai...   \n",
       "3669  Paul Ben-Victor Ed Asner Jordenn Thompson Caro...   \n",
       "3670                                                NaN   \n",
       "3852  James Nesbitt Genevieve O'Reilly Jason Watkins...   \n",
       "3855  Oscar Isaac Jane Goodall Jerry Brown Neal Barn...   \n",
       "...                                                 ...   \n",
       "4769  Robert Bones Kirpatrick Thomas Dave Koenig Jul...   \n",
       "4771  Nichole Ceballos James Ezrin Everardo Guzman P...   \n",
       "4780  R.L. Mann Tama Filianga Mikaal Bates Celestine...   \n",
       "4785  Louis Brooke Allan Bryan Weku Judy Gichohi Kel...   \n",
       "4794  Sasha Ramos Erin Cline Emily Rogers Anthony Ru...   \n",
       "\n",
       "                                                   crew            director  \n",
       "1464  [{'name': 'Tony Kaye', 'gender': 2, 'departmen...           Tony Kaye  \n",
       "3669  [{'name': 'Mary Vernieu', 'gender': 1, 'depart...      Marcia Bennett  \n",
       "3670                                                 []                 NaN  \n",
       "3852  [{'name': 'Stuart Urban', 'gender': 0, 'depart...        Nick Murphy   \n",
       "3855  [{'name': 'Charles Ferguson', 'gender': 2, 'de...    Charles Ferguson  \n",
       "...                                                 ...                 ...  \n",
       "4769  [{'name': 'Mike Bruce', 'gender': 0, 'departme...          Mike Bruce  \n",
       "4771  [{'name': 'Damir Catic', 'gender': 0, 'departm...         Damir Catic  \n",
       "4780  [{'name': 'Joseph Mazzella', 'gender': 0, 'dep...     Joseph Mazzella  \n",
       "4785  [{'name': 'Jim Chuchu', 'gender': 0, 'departme...          Jim Chuchu  \n",
       "4794  [{'name': 'Thomas L. Phillips', 'gender': 0, '...  Thomas L. Phillips  \n",
       "\n",
       "[63 rows x 24 columns]"
      ]
     },
     "execution_count": 20,
     "metadata": {},
     "output_type": "execute_result"
    }
   ],
   "source": [
    "(df[df.vote_average==0.0])"
   ]
  },
  {
   "cell_type": "code",
   "execution_count": 32,
   "metadata": {},
   "outputs": [
    {
     "data": {
      "text/plain": [
       "spoken_languages\n",
       "[{\"iso_639_1\": \"en\", \"name\": \"English\"}]                                                                                                                                                                                                                                                                                                                                           3171\n",
       "[{\"iso_639_1\": \"en\", \"name\": \"English\"}, {\"iso_639_1\": \"es\", \"name\": \"Espa\\u00f1ol\"}]                                                                                                                                                                                                                                                                                               127\n",
       "[{\"iso_639_1\": \"en\", \"name\": \"English\"}, {\"iso_639_1\": \"fr\", \"name\": \"Fran\\u00e7ais\"}]                                                                                                                                                                                                                                                                                              114\n",
       "[]                                                                                                                                                                                                                                                                                                                                                                                   86\n",
       "[{\"iso_639_1\": \"es\", \"name\": \"Espa\\u00f1ol\"}, {\"iso_639_1\": \"en\", \"name\": \"English\"}]                                                                                                                                                                                                                                                                                                54\n",
       "                                                                                                                                                                                                                                                                                                                                                                                   ... \n",
       "[{\"iso_639_1\": \"en\", \"name\": \"English\"}, {\"iso_639_1\": \"pl\", \"name\": \"Polski\"}, {\"iso_639_1\": \"pt\", \"name\": \"Portugu\\u00eas\"}]                                                                                                                                                                                                                                                        1\n",
       "[{\"iso_639_1\": \"en\", \"name\": \"English\"}, {\"iso_639_1\": \"es\", \"name\": \"Espa\\u00f1ol\"}, {\"iso_639_1\": \"ru\", \"name\": \"P\\u0443\\u0441\\u0441\\u043a\\u0438\\u0439\"}]                                                                                                                                                                                                                           1\n",
       "[{\"iso_639_1\": \"en\", \"name\": \"English\"}, {\"iso_639_1\": \"ar\", \"name\": \"\\u0627\\u0644\\u0639\\u0631\\u0628\\u064a\\u0629\"}, {\"iso_639_1\": \"fr\", \"name\": \"Fran\\u00e7ais\"}, {\"iso_639_1\": \"de\", \"name\": \"Deutsch\"}, {\"iso_639_1\": \"ru\", \"name\": \"P\\u0443\\u0441\\u0441\\u043a\\u0438\\u0439\"}, {\"iso_639_1\": \"cs\", \"name\": \"\\u010cesk\\u00fd\"}, {\"iso_639_1\": \"sk\", \"name\": \"Sloven\\u010dina\"}]       1\n",
       "[{\"iso_639_1\": \"en\", \"name\": \"English\"}, {\"iso_639_1\": \"de\", \"name\": \"Deutsch\"}, {\"iso_639_1\": \"tr\", \"name\": \"T\\u00fcrk\\u00e7e\"}, {\"iso_639_1\": \"ar\", \"name\": \"\\u0627\\u0644\\u0639\\u0631\\u0628\\u064a\\u0629\"}]                                                                                                                                                                          1\n",
       "[{\"iso_639_1\": \"en\", \"name\": \"English\"}, {\"iso_639_1\": \"de\", \"name\": \"Deutsch\"}, {\"iso_639_1\": \"mn\", \"name\": \"\"}]                                                                                                                                                                                                                                                                     1\n",
       "Name: count, Length: 544, dtype: int64"
      ]
     },
     "execution_count": 32,
     "metadata": {},
     "output_type": "execute_result"
    }
   ],
   "source": [
    "(df.spoken_languages.value_counts())\n"
   ]
  },
  {
   "cell_type": "code",
   "execution_count": 38,
   "metadata": {},
   "outputs": [
    {
     "data": {
      "text/html": [
       "<div>\n",
       "<style scoped>\n",
       "    .dataframe tbody tr th:only-of-type {\n",
       "        vertical-align: middle;\n",
       "    }\n",
       "\n",
       "    .dataframe tbody tr th {\n",
       "        vertical-align: top;\n",
       "    }\n",
       "\n",
       "    .dataframe thead th {\n",
       "        text-align: right;\n",
       "    }\n",
       "</style>\n",
       "<table border=\"1\" class=\"dataframe\">\n",
       "  <thead>\n",
       "    <tr style=\"text-align: right;\">\n",
       "      <th></th>\n",
       "      <th>title</th>\n",
       "      <th>director</th>\n",
       "      <th>popularity</th>\n",
       "    </tr>\n",
       "  </thead>\n",
       "  <tbody>\n",
       "    <tr>\n",
       "      <th>0</th>\n",
       "      <td>Avatar</td>\n",
       "      <td>James Cameron</td>\n",
       "      <td>150.437577</td>\n",
       "    </tr>\n",
       "    <tr>\n",
       "      <th>1</th>\n",
       "      <td>Pirates of the Caribbean: At World's End</td>\n",
       "      <td>Gore Verbinski</td>\n",
       "      <td>139.082615</td>\n",
       "    </tr>\n",
       "    <tr>\n",
       "      <th>2</th>\n",
       "      <td>Spectre</td>\n",
       "      <td>Sam Mendes</td>\n",
       "      <td>107.376788</td>\n",
       "    </tr>\n",
       "    <tr>\n",
       "      <th>3</th>\n",
       "      <td>The Dark Knight Rises</td>\n",
       "      <td>Christopher Nolan</td>\n",
       "      <td>112.312950</td>\n",
       "    </tr>\n",
       "    <tr>\n",
       "      <th>4</th>\n",
       "      <td>John Carter</td>\n",
       "      <td>Andrew Stanton</td>\n",
       "      <td>43.926995</td>\n",
       "    </tr>\n",
       "    <tr>\n",
       "      <th>...</th>\n",
       "      <td>...</td>\n",
       "      <td>...</td>\n",
       "      <td>...</td>\n",
       "    </tr>\n",
       "    <tr>\n",
       "      <th>4798</th>\n",
       "      <td>El Mariachi</td>\n",
       "      <td>Robert Rodriguez</td>\n",
       "      <td>14.269792</td>\n",
       "    </tr>\n",
       "    <tr>\n",
       "      <th>4799</th>\n",
       "      <td>Newlyweds</td>\n",
       "      <td>Edward Burns</td>\n",
       "      <td>0.642552</td>\n",
       "    </tr>\n",
       "    <tr>\n",
       "      <th>4800</th>\n",
       "      <td>Signed, Sealed, Delivered</td>\n",
       "      <td>Scott Smith</td>\n",
       "      <td>1.444476</td>\n",
       "    </tr>\n",
       "    <tr>\n",
       "      <th>4801</th>\n",
       "      <td>Shanghai Calling</td>\n",
       "      <td>Daniel Hsia</td>\n",
       "      <td>0.857008</td>\n",
       "    </tr>\n",
       "    <tr>\n",
       "      <th>4802</th>\n",
       "      <td>My Date with Drew</td>\n",
       "      <td>Brian Herzlinger</td>\n",
       "      <td>1.929883</td>\n",
       "    </tr>\n",
       "  </tbody>\n",
       "</table>\n",
       "<p>4803 rows × 3 columns</p>\n",
       "</div>"
      ],
      "text/plain": [
       "                                         title           director  popularity\n",
       "0                                       Avatar      James Cameron  150.437577\n",
       "1     Pirates of the Caribbean: At World's End     Gore Verbinski  139.082615\n",
       "2                                      Spectre         Sam Mendes  107.376788\n",
       "3                        The Dark Knight Rises  Christopher Nolan  112.312950\n",
       "4                                  John Carter     Andrew Stanton   43.926995\n",
       "...                                        ...                ...         ...\n",
       "4798                               El Mariachi   Robert Rodriguez   14.269792\n",
       "4799                                 Newlyweds       Edward Burns    0.642552\n",
       "4800                 Signed, Sealed, Delivered        Scott Smith    1.444476\n",
       "4801                          Shanghai Calling        Daniel Hsia    0.857008\n",
       "4802                         My Date with Drew   Brian Herzlinger    1.929883\n",
       "\n",
       "[4803 rows x 3 columns]"
      ]
     },
     "execution_count": 38,
     "metadata": {},
     "output_type": "execute_result"
    }
   ],
   "source": [
    "df_new = df[[\"title\",\"director\",\"popularity\"]]\n",
    "df_new"
   ]
  },
  {
   "cell_type": "code",
   "execution_count": 40,
   "metadata": {},
   "outputs": [
    {
     "name": "stderr",
     "output_type": "stream",
     "text": [
      "C:\\Users\\palik\\AppData\\Local\\Temp\\ipykernel_5660\\4124795993.py:1: SettingWithCopyWarning: \n",
      "A value is trying to be set on a copy of a slice from a DataFrame.\n",
      "Try using .loc[row_indexer,col_indexer] = value instead\n",
      "\n",
      "See the caveats in the documentation: https://pandas.pydata.org/pandas-docs/stable/user_guide/indexing.html#returning-a-view-versus-a-copy\n",
      "  df_new[\"pop\"] = df_new[\"popularity\"].apply(lambda x: x*100)\n"
     ]
    },
    {
     "data": {
      "text/html": [
       "<div>\n",
       "<style scoped>\n",
       "    .dataframe tbody tr th:only-of-type {\n",
       "        vertical-align: middle;\n",
       "    }\n",
       "\n",
       "    .dataframe tbody tr th {\n",
       "        vertical-align: top;\n",
       "    }\n",
       "\n",
       "    .dataframe thead th {\n",
       "        text-align: right;\n",
       "    }\n",
       "</style>\n",
       "<table border=\"1\" class=\"dataframe\">\n",
       "  <thead>\n",
       "    <tr style=\"text-align: right;\">\n",
       "      <th></th>\n",
       "      <th>title</th>\n",
       "      <th>director</th>\n",
       "      <th>popularity</th>\n",
       "      <th>pop</th>\n",
       "    </tr>\n",
       "  </thead>\n",
       "  <tbody>\n",
       "    <tr>\n",
       "      <th>0</th>\n",
       "      <td>Avatar</td>\n",
       "      <td>James Cameron</td>\n",
       "      <td>150.437577</td>\n",
       "      <td>15043.7577</td>\n",
       "    </tr>\n",
       "    <tr>\n",
       "      <th>1</th>\n",
       "      <td>Pirates of the Caribbean: At World's End</td>\n",
       "      <td>Gore Verbinski</td>\n",
       "      <td>139.082615</td>\n",
       "      <td>13908.2615</td>\n",
       "    </tr>\n",
       "    <tr>\n",
       "      <th>2</th>\n",
       "      <td>Spectre</td>\n",
       "      <td>Sam Mendes</td>\n",
       "      <td>107.376788</td>\n",
       "      <td>10737.6788</td>\n",
       "    </tr>\n",
       "    <tr>\n",
       "      <th>3</th>\n",
       "      <td>The Dark Knight Rises</td>\n",
       "      <td>Christopher Nolan</td>\n",
       "      <td>112.312950</td>\n",
       "      <td>11231.2950</td>\n",
       "    </tr>\n",
       "    <tr>\n",
       "      <th>4</th>\n",
       "      <td>John Carter</td>\n",
       "      <td>Andrew Stanton</td>\n",
       "      <td>43.926995</td>\n",
       "      <td>4392.6995</td>\n",
       "    </tr>\n",
       "  </tbody>\n",
       "</table>\n",
       "</div>"
      ],
      "text/plain": [
       "                                      title           director  popularity  \\\n",
       "0                                    Avatar      James Cameron  150.437577   \n",
       "1  Pirates of the Caribbean: At World's End     Gore Verbinski  139.082615   \n",
       "2                                   Spectre         Sam Mendes  107.376788   \n",
       "3                     The Dark Knight Rises  Christopher Nolan  112.312950   \n",
       "4                               John Carter     Andrew Stanton   43.926995   \n",
       "\n",
       "          pop  \n",
       "0  15043.7577  \n",
       "1  13908.2615  \n",
       "2  10737.6788  \n",
       "3  11231.2950  \n",
       "4   4392.6995  "
      ]
     },
     "execution_count": 40,
     "metadata": {},
     "output_type": "execute_result"
    }
   ],
   "source": [
    "df_new[\"pop\"] = df_new[\"popularity\"].apply(lambda x: x*100)\n",
    "df_new.head()"
   ]
  },
  {
   "cell_type": "code",
   "execution_count": 43,
   "metadata": {},
   "outputs": [
    {
     "data": {
      "text/plain": [
       "RangeIndex(start=0, stop=4803, step=1)"
      ]
     },
     "execution_count": 43,
     "metadata": {},
     "output_type": "execute_result"
    }
   ],
   "source": [
    "df_new.index"
   ]
  },
  {
   "cell_type": "code",
   "execution_count": 52,
   "metadata": {},
   "outputs": [
    {
     "data": {
      "text/plain": [
       "title         The Curious Case of Benjamin Button\n",
       "director                            David Fincher\n",
       "popularity                              60.269279\n",
       "pop                                     6026.9279\n",
       "Name: 100, dtype: object"
      ]
     },
     "execution_count": 52,
     "metadata": {},
     "output_type": "execute_result"
    }
   ],
   "source": [
    "df_new.loc[100]"
   ]
  },
  {
   "cell_type": "code",
   "execution_count": 58,
   "metadata": {},
   "outputs": [
    {
     "ename": "KeyError",
     "evalue": "\"None of ['title'] are in the columns\"",
     "output_type": "error",
     "traceback": [
      "\u001b[1;31m---------------------------------------------------------------------------\u001b[0m",
      "\u001b[1;31mKeyError\u001b[0m                                  Traceback (most recent call last)",
      "\u001b[1;32m~\\AppData\\Local\\Temp\\ipykernel_5660\\3038753106.py\u001b[0m in \u001b[0;36m?\u001b[1;34m()\u001b[0m\n\u001b[1;32m----> 1\u001b[1;33m \u001b[0mdf_new\u001b[0m\u001b[1;33m.\u001b[0m\u001b[0mset_index\u001b[0m\u001b[1;33m(\u001b[0m\u001b[1;34m\"title\"\u001b[0m\u001b[1;33m,\u001b[0m\u001b[0minplace\u001b[0m\u001b[1;33m=\u001b[0m\u001b[1;32mTrue\u001b[0m\u001b[1;33m)\u001b[0m\u001b[1;33m\u001b[0m\u001b[1;33m\u001b[0m\u001b[0m\n\u001b[0m",
      "\u001b[1;32m~\\AppData\\Roaming\\Python\\Python38\\site-packages\\pandas\\core\\frame.py\u001b[0m in \u001b[0;36m?\u001b[1;34m(self, keys, drop, append, inplace, verify_integrity)\u001b[0m\n\u001b[0;32m   5855\u001b[0m                     \u001b[1;32mif\u001b[0m \u001b[1;32mnot\u001b[0m \u001b[0mfound\u001b[0m\u001b[1;33m:\u001b[0m\u001b[1;33m\u001b[0m\u001b[1;33m\u001b[0m\u001b[0m\n\u001b[0;32m   5856\u001b[0m                         \u001b[0mmissing\u001b[0m\u001b[1;33m.\u001b[0m\u001b[0mappend\u001b[0m\u001b[1;33m(\u001b[0m\u001b[0mcol\u001b[0m\u001b[1;33m)\u001b[0m\u001b[1;33m\u001b[0m\u001b[1;33m\u001b[0m\u001b[0m\n\u001b[0;32m   5857\u001b[0m \u001b[1;33m\u001b[0m\u001b[0m\n\u001b[0;32m   5858\u001b[0m         \u001b[1;32mif\u001b[0m \u001b[0mmissing\u001b[0m\u001b[1;33m:\u001b[0m\u001b[1;33m\u001b[0m\u001b[1;33m\u001b[0m\u001b[0m\n\u001b[1;32m-> 5859\u001b[1;33m             \u001b[1;32mraise\u001b[0m \u001b[0mKeyError\u001b[0m\u001b[1;33m(\u001b[0m\u001b[1;34mf\"None of {missing} are in the columns\"\u001b[0m\u001b[1;33m)\u001b[0m\u001b[1;33m\u001b[0m\u001b[1;33m\u001b[0m\u001b[0m\n\u001b[0m\u001b[0;32m   5860\u001b[0m \u001b[1;33m\u001b[0m\u001b[0m\n\u001b[0;32m   5861\u001b[0m         \u001b[1;32mif\u001b[0m \u001b[0minplace\u001b[0m\u001b[1;33m:\u001b[0m\u001b[1;33m\u001b[0m\u001b[1;33m\u001b[0m\u001b[0m\n\u001b[0;32m   5862\u001b[0m             \u001b[0mframe\u001b[0m \u001b[1;33m=\u001b[0m \u001b[0mself\u001b[0m\u001b[1;33m\u001b[0m\u001b[1;33m\u001b[0m\u001b[0m\n",
      "\u001b[1;31mKeyError\u001b[0m: \"None of ['title'] are in the columns\""
     ]
    }
   ],
   "source": [
    "df_new.set_index(\"title\",inplace=True)"
   ]
  },
  {
   "cell_type": "code",
   "execution_count": 60,
   "metadata": {},
   "outputs": [
    {
     "data": {
      "text/plain": [
       "Index(['Avatar', 'Pirates of the Caribbean: At World's End', 'Spectre',\n",
       "       'The Dark Knight Rises', 'John Carter', 'Spider-Man 3', 'Tangled',\n",
       "       'Avengers: Age of Ultron', 'Harry Potter and the Half-Blood Prince',\n",
       "       'Batman v Superman: Dawn of Justice',\n",
       "       ...\n",
       "       'On The Downlow', 'Sanctuary: Quite a Conundrum', 'Bang', 'Primer',\n",
       "       'Cavite', 'El Mariachi', 'Newlyweds', 'Signed, Sealed, Delivered',\n",
       "       'Shanghai Calling', 'My Date with Drew'],\n",
       "      dtype='object', name='title', length=4803)"
      ]
     },
     "execution_count": 60,
     "metadata": {},
     "output_type": "execute_result"
    }
   ],
   "source": [
    "df_new.index"
   ]
  },
  {
   "cell_type": "code",
   "execution_count": 65,
   "metadata": {},
   "outputs": [
    {
     "data": {
      "text/plain": [
       "director      Ash Baron-Cohen\n",
       "popularity           0.918116\n",
       "pop                   91.8116\n",
       "Name: Bang, dtype: object"
      ]
     },
     "execution_count": 65,
     "metadata": {},
     "output_type": "execute_result"
    }
   ],
   "source": [
    "df_new.loc['Bang']"
   ]
  },
  {
   "cell_type": "code",
   "execution_count": 67,
   "metadata": {},
   "outputs": [],
   "source": [
    "df_new.reset_index(inplace=True)"
   ]
  },
  {
   "cell_type": "code",
   "execution_count": 70,
   "metadata": {},
   "outputs": [
    {
     "data": {
      "text/plain": [
       "RangeIndex(start=0, stop=4803, step=1)"
      ]
     },
     "execution_count": 70,
     "metadata": {},
     "output_type": "execute_result"
    }
   ],
   "source": [
    "df_new.index"
   ]
  },
  {
   "cell_type": "code",
   "execution_count": 72,
   "metadata": {},
   "outputs": [
    {
     "data": {
      "text/html": [
       "<div>\n",
       "<style scoped>\n",
       "    .dataframe tbody tr th:only-of-type {\n",
       "        vertical-align: middle;\n",
       "    }\n",
       "\n",
       "    .dataframe tbody tr th {\n",
       "        vertical-align: top;\n",
       "    }\n",
       "\n",
       "    .dataframe thead th {\n",
       "        text-align: right;\n",
       "    }\n",
       "</style>\n",
       "<table border=\"1\" class=\"dataframe\">\n",
       "  <thead>\n",
       "    <tr style=\"text-align: right;\">\n",
       "      <th></th>\n",
       "      <th>title</th>\n",
       "      <th>industry</th>\n",
       "      <th>release_year</th>\n",
       "      <th>imdb_rating</th>\n",
       "      <th>studio</th>\n",
       "      <th>budget</th>\n",
       "      <th>revenue</th>\n",
       "      <th>unit</th>\n",
       "      <th>currency</th>\n",
       "      <th>language</th>\n",
       "    </tr>\n",
       "  </thead>\n",
       "  <tbody>\n",
       "    <tr>\n",
       "      <th>0</th>\n",
       "      <td>Pather Panchali</td>\n",
       "      <td>Bollywood</td>\n",
       "      <td>1955</td>\n",
       "      <td>8.3</td>\n",
       "      <td>Government of West Bengal</td>\n",
       "      <td>70000.0</td>\n",
       "      <td>100000.0</td>\n",
       "      <td>Thousands</td>\n",
       "      <td>INR</td>\n",
       "      <td>Bengali</td>\n",
       "    </tr>\n",
       "    <tr>\n",
       "      <th>1</th>\n",
       "      <td>Doctor Strange in the Multiverse of Madness</td>\n",
       "      <td>Hollywood</td>\n",
       "      <td>2022</td>\n",
       "      <td>7.0</td>\n",
       "      <td>Marvel Studios</td>\n",
       "      <td>200.0</td>\n",
       "      <td>954.8</td>\n",
       "      <td>Millions</td>\n",
       "      <td>USD</td>\n",
       "      <td>English</td>\n",
       "    </tr>\n",
       "    <tr>\n",
       "      <th>2</th>\n",
       "      <td>Thor: The Dark World</td>\n",
       "      <td>Hollywood</td>\n",
       "      <td>2013</td>\n",
       "      <td>6.8</td>\n",
       "      <td>Marvel Studios</td>\n",
       "      <td>165.0</td>\n",
       "      <td>644.8</td>\n",
       "      <td>Millions</td>\n",
       "      <td>USD</td>\n",
       "      <td>English</td>\n",
       "    </tr>\n",
       "    <tr>\n",
       "      <th>3</th>\n",
       "      <td>Thor: Ragnarok</td>\n",
       "      <td>Hollywood</td>\n",
       "      <td>2017</td>\n",
       "      <td>7.9</td>\n",
       "      <td>Marvel Studios</td>\n",
       "      <td>180.0</td>\n",
       "      <td>854.0</td>\n",
       "      <td>Millions</td>\n",
       "      <td>USD</td>\n",
       "      <td>English</td>\n",
       "    </tr>\n",
       "  </tbody>\n",
       "</table>\n",
       "</div>"
      ],
      "text/plain": [
       "                                         title   industry  release_year  \\\n",
       "0                              Pather Panchali  Bollywood          1955   \n",
       "1  Doctor Strange in the Multiverse of Madness  Hollywood          2022   \n",
       "2                        Thor: The Dark World   Hollywood          2013   \n",
       "3                              Thor: Ragnarok   Hollywood          2017   \n",
       "\n",
       "   imdb_rating                     studio   budget   revenue       unit  \\\n",
       "0          8.3  Government of West Bengal  70000.0  100000.0  Thousands   \n",
       "1          7.0             Marvel Studios    200.0     954.8   Millions   \n",
       "2          6.8             Marvel Studios    165.0     644.8   Millions   \n",
       "3          7.9             Marvel Studios    180.0     854.0   Millions   \n",
       "\n",
       "  currency language  \n",
       "0      INR  Bengali  \n",
       "1      USD  English  \n",
       "2      USD  English  \n",
       "3      USD  English  "
      ]
     },
     "execution_count": 72,
     "metadata": {},
     "output_type": "execute_result"
    }
   ],
   "source": [
    "df = pd.read_csv(\"data//movies.csv\")\n",
    "df.head(4)"
   ]
  },
  {
   "cell_type": "code",
   "execution_count": 1,
   "metadata": {},
   "outputs": [],
   "source": [
    "import numpy as np"
   ]
  },
  {
   "cell_type": "code",
   "execution_count": 3,
   "metadata": {},
   "outputs": [
    {
     "data": {
      "text/plain": [
       "array([0, 2, 4, 6, 8])"
      ]
     },
     "execution_count": 3,
     "metadata": {},
     "output_type": "execute_result"
    }
   ],
   "source": [
    "np.arange(0, 10, 2)"
   ]
  },
  {
   "cell_type": "code",
   "execution_count": 5,
   "metadata": {},
   "outputs": [
    {
     "data": {
      "text/plain": [
       "array([ 0. ,  2.5,  5. ,  7.5, 10. ])"
      ]
     },
     "execution_count": 5,
     "metadata": {},
     "output_type": "execute_result"
    }
   ],
   "source": [
    "np.linspace(0,10,5)"
   ]
  },
  {
   "cell_type": "code",
   "execution_count": 20,
   "metadata": {},
   "outputs": [
    {
     "data": {
      "text/plain": [
       "array([ 1,  2,  3,  4,  5,  6,  7,  8,  9, 10])"
      ]
     },
     "execution_count": 20,
     "metadata": {},
     "output_type": "execute_result"
    }
   ],
   "source": [
    "arr = np.arange(1,11)\n",
    "arr"
   ]
  },
  {
   "cell_type": "code",
   "execution_count": 13,
   "metadata": {},
   "outputs": [
    {
     "data": {
      "text/plain": [
       "array([1])"
      ]
     },
     "execution_count": 13,
     "metadata": {},
     "output_type": "execute_result"
    }
   ],
   "source": [
    "arr[: 2: 2]"
   ]
  },
  {
   "cell_type": "code",
   "execution_count": 29,
   "metadata": {},
   "outputs": [
    {
     "ename": "ValueError",
     "evalue": "cannot reshape array of size 10 into shape (4,3)",
     "output_type": "error",
     "traceback": [
      "\u001b[1;31m---------------------------------------------------------------------------\u001b[0m",
      "\u001b[1;31mValueError\u001b[0m                                Traceback (most recent call last)",
      "Cell \u001b[1;32mIn[29], line 1\u001b[0m\n\u001b[1;32m----> 1\u001b[0m \u001b[43marr\u001b[49m\u001b[38;5;241;43m.\u001b[39;49m\u001b[43mreshape\u001b[49m\u001b[43m(\u001b[49m\u001b[38;5;241;43m4\u001b[39;49m\u001b[43m,\u001b[49m\u001b[38;5;241;43m3\u001b[39;49m\u001b[43m)\u001b[49m\n",
      "\u001b[1;31mValueError\u001b[0m: cannot reshape array of size 10 into shape (4,3)"
     ]
    }
   ],
   "source": [
    "arr.reshape(4,3)"
   ]
  },
  {
   "cell_type": "code",
   "execution_count": 51,
   "metadata": {},
   "outputs": [
    {
     "data": {
      "text/plain": [
       "0"
      ]
     },
     "execution_count": 51,
     "metadata": {},
     "output_type": "execute_result"
    }
   ],
   "source": [
    "np.random.randint(1)"
   ]
  },
  {
   "cell_type": "code",
   "execution_count": 52,
   "metadata": {},
   "outputs": [
    {
     "data": {
      "text/plain": [
       "array([ 1,  2,  3,  4,  5,  6,  7,  8,  9, 10])"
      ]
     },
     "execution_count": 52,
     "metadata": {},
     "output_type": "execute_result"
    }
   ],
   "source": [
    "arr.T"
   ]
  }
 ],
 "metadata": {
  "kernelspec": {
   "display_name": "Python 3",
   "language": "python",
   "name": "python3"
  },
  "language_info": {
   "codemirror_mode": {
    "name": "ipython",
    "version": 3
   },
   "file_extension": ".py",
   "mimetype": "text/x-python",
   "name": "python",
   "nbconvert_exporter": "python",
   "pygments_lexer": "ipython3",
   "version": "3.8.2"
  }
 },
 "nbformat": 4,
 "nbformat_minor": 2
}
